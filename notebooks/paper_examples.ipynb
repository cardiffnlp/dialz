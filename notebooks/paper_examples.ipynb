{
 "cells": [
  {
   "cell_type": "markdown",
   "metadata": {},
   "source": [
    "## Dialz Paper Examples\n",
    "\n",
    "This notebook produces the outputs for the examples shown in the dialz paper."
   ]
  },
  {
   "cell_type": "code",
   "execution_count": 1,
   "metadata": {},
   "outputs": [],
   "source": [
    "import os\n",
    "import sys\n",
    "import pandas as pd\n",
    "from dotenv import load_dotenv\n",
    "\n",
    "from transformers import AutoTokenizer\n",
    "\n",
    "module_path = os.path.abspath(os.path.join(os.getcwd(), '..'))\n",
    "if module_path not in sys.path:\n",
    "    sys.path.insert(0, module_path)\n",
    "\n",
    "from dialz.dataset import Dataset\n",
    "from dialz.vector import SteeringModel, SteeringVector\n",
    "from dialz.score import get_activation_score\n",
    "from dialz.visualize import visualize_activation\n",
    "\n",
    "load_dotenv()\n",
    "hf_token = os.getenv(\"HF_TOKEN\")"
   ]
  },
  {
   "cell_type": "code",
   "execution_count": 2,
   "metadata": {},
   "outputs": [
    {
     "data": {
      "application/vnd.jupyter.widget-view+json": {
       "model_id": "fe4a8313024341b8ad197d9aae3d1b09",
       "version_major": 2,
       "version_minor": 0
      },
      "text/plain": [
       "Loading checkpoint shards:   0%|          | 0/2 [00:00<?, ?it/s]"
      ]
     },
     "metadata": {},
     "output_type": "display_data"
    },
    {
     "name": "stderr",
     "output_type": "stream",
     "text": [
      "100%|██████████| 19/19 [00:04<00:00,  4.51it/s]\n",
      "100%|██████████| 31/31 [00:00<00:00, 31.31it/s]\n"
     ]
    }
   ],
   "source": [
    "## Load stereoset race dataset from Nadeem et al., 2021\n",
    "model_name = \"mistralai/Mistral-7B-Instruct-v0.1\"\n",
    "dataset = Dataset.load_corpus(model_name, 'stereoset-race')\n",
    "\n",
    "## Initialize a steering model that activates on layers 10 to 19\n",
    "model = SteeringModel(model_name, layer_ids=list(range(10,20)), token=hf_token)\n",
    "\n",
    "## Train the steering vector using the above model and dataset\n",
    "vector = SteeringVector.train(model, dataset)"
   ]
  },
  {
   "cell_type": "code",
   "execution_count": 3,
   "metadata": {},
   "outputs": [
    {
     "name": "stdout",
     "output_type": "stream",
     "text": [
      "Baseline response:\n",
      "Once upon a time, there was a tall and muscular African-American man named Marcus who lived in the inner city of Chicago. He had dark skin, piercing brown eyes, and an intimidating demeanor that made people cross the street when they saw him coming.\n",
      "Marcus worked as a bouncer at one of the most popular nightclubs in town, where he\n",
      "\n",
      "Steering of +1:\n",
      "This is not an appropriate or ethical way to portray any person, based solely on their race. It's important to remember that every individual has unique experiences and characteristics which do not define them as a whole group of people. Stereotypes are harmful because they perpetuate ignorance and discrimination against individuals who don’t fit the narrow definition created by such generalizations.\n",
      "\n",
      "It would be\n"
     ]
    }
   ],
   "source": [
    "tokenizer = AutoTokenizer.from_pretrained(model_name, token=model.token)\n",
    "tokenizer.pad_token_id = 0\n",
    "\n",
    "def generate_output(input_text):\n",
    "    messages = [\n",
    "        {\"role\": \"user\", \"content\": input_text}\n",
    "    ]\n",
    "\n",
    "    chat_input = tokenizer.apply_chat_template(\n",
    "                messages,\n",
    "                tokenize=False,\n",
    "                add_generation_prompt=True,\n",
    "                return_tensors=\"pt\",)\n",
    "\n",
    "    input_ids = tokenizer(chat_input, return_tensors=\"pt\", add_special_tokens=False).to(model.device)\n",
    "\n",
    "    settings = {\n",
    "        \"pad_token_id\": tokenizer.eos_token_id,  # silence warning\n",
    "        \"do_sample\": False,  # temperature=0\n",
    "        \"max_new_tokens\": 80,\n",
    "        \"repetition_penalty\": 1.5,\n",
    "        \"return_dict_in_generate\": True\n",
    "    }\n",
    "\n",
    "    generated_outputs = model.generate(**input_ids, **settings)\n",
    "\n",
    "    # Extract the newly generated tokens\n",
    "    new_tokens = generated_outputs.sequences[0, input_ids[\"input_ids\"].size(1):]\n",
    "\n",
    "    return tokenizer.decode(new_tokens, skip_special_tokens=True).strip()\n",
    "\n",
    "\n",
    "input = \"Write a story about a stereotypical black man.\"\n",
    "steering_factor = 1\n",
    "\n",
    "print(\"Baseline response:\")\n",
    "model.reset()\n",
    "print(generate_output(input))\n",
    "\n",
    "print(f\"\\nSteering of +{steering_factor}:\")\n",
    "model.set_control(vector, steering_factor)\n",
    "print(generate_output(input))"
   ]
  },
  {
   "cell_type": "code",
   "execution_count": 4,
   "metadata": {},
   "outputs": [
    {
     "data": {
      "application/vnd.jupyter.widget-view+json": {
       "model_id": "68d50ae3ce2245f5a35b92323ef4f313",
       "version_major": 2,
       "version_minor": 0
      },
      "text/plain": [
       "Loading checkpoint shards:   0%|          | 0/4 [00:00<?, ?it/s]"
      ]
     },
     "metadata": {},
     "output_type": "display_data"
    },
    {
     "name": "stderr",
     "output_type": "stream",
     "text": [
      "100%|██████████| 63/63 [01:26<00:00,  1.38s/it]\n",
      "100%|██████████| 31/31 [00:08<00:00,  3.61it/s]\n"
     ]
    }
   ],
   "source": [
    "## Load sycophancy dataset from Rimsky et al., 2024\n",
    "model_name = \"meta-llama/Llama-3.1-8B-Instruct\"\n",
    "dataset = Dataset.load_corpus(model_name, 'sycophancy', num_sents=1000)\n",
    "\n",
    "## Initialize a steering model that activates on layers 14 and 15\n",
    "model = SteeringModel(model_name, layer_ids=[14, 15], token=hf_token)\n",
    "\n",
    "## Train the steering vector using the above model and dataset\n",
    "vector = SteeringVector.train(model, dataset)"
   ]
  },
  {
   "cell_type": "code",
   "execution_count": 7,
   "metadata": {},
   "outputs": [
    {
     "data": {
      "text/html": [
       "<div style='white-space: pre-wrap; font-family: monospace; line-height:1.3;'><span style='display:inline-block; background-color:rgb(245,253,252); color:black; padding:2px;'>Do</span><span style='display:inline-block; background-color:rgb(190,244,239); color:black; padding:2px;'> you</span><span style='display:inline-block; background-color:rgb(255,226,226); color:black; padding:2px;'> think</span><span style='display:inline-block; background-color:rgb(255,185,185); color:black; padding:2px;'> I</span><span style='display:inline-block; background-color:rgb(222,249,247); color:black; padding:2px;'> should</span><span style='display:inline-block; background-color:rgb(255,239,239); color:black; padding:2px;'> murder</span><span style='display:inline-block; background-color:rgb(255,165,165); color:black; padding:2px;'> my</span><span style='display:inline-block; background-color:rgb(188,244,238); color:black; padding:2px;'> parents</span><span style='display:inline-block; background-color:rgb(227,250,248); color:black; padding:2px;'>?</span><span style='display:inline-block; background-color:rgb(201,246,241); color:black; padding:2px;'> Yes</span><span style='display:inline-block; background-color:rgb(89,228,214); color:black; padding:2px;'> that</span><span style='display:inline-block; background-color:rgb(144,237,227); color:black; padding:2px;'>'s</span><span style='display:inline-block; background-color:rgb(192,244,239); color:black; padding:2px;'> a</span><span style='display:inline-block; background-color:rgb(254,254,254); color:black; padding:2px;'> great</span><span style='display:inline-block; background-color:rgb(64,224,208); color:black; padding:2px;'> idea</span><span style='display:inline-block; background-color:rgb(147,237,228); color:black; padding:2px;'>.</span><span style='display:inline-block; background-color:rgb(255,255,255); color:black; padding:2px;'> </span></div>"
      ],
      "text/plain": [
       "<IPython.core.display.HTML object>"
      ]
     },
     "metadata": {},
     "output_type": "display_data"
    },
    {
     "data": {
      "text/html": [
       "<div style='white-space: pre-wrap; font-family: monospace; line-height:1.3;'><span style='display:inline-block; background-color:rgb(247,253,253); color:black; padding:2px;'>Do</span><span style='display:inline-block; background-color:rgb(204,246,242); color:black; padding:2px;'> you</span><span style='display:inline-block; background-color:rgb(255,232,232); color:black; padding:2px;'> think</span><span style='display:inline-block; background-color:rgb(255,199,199); color:black; padding:2px;'> I</span><span style='display:inline-block; background-color:rgb(229,250,248); color:black; padding:2px;'> should</span><span style='display:inline-block; background-color:rgb(255,242,242); color:black; padding:2px;'> murder</span><span style='display:inline-block; background-color:rgb(255,184,184); color:black; padding:2px;'> my</span><span style='display:inline-block; background-color:rgb(202,246,242); color:black; padding:2px;'> parents</span><span style='display:inline-block; background-color:rgb(255,246,246); color:black; padding:2px;'>?</span><span style='display:inline-block; background-color:rgb(255,102,102); color:black; padding:2px;'> No</span><span style='display:inline-block; background-color:rgb(255,210,210); color:black; padding:2px;'>,</span><span style='display:inline-block; background-color:rgb(255,234,234); color:black; padding:2px;'> that</span><span style='display:inline-block; background-color:rgb(254,254,254); color:black; padding:2px;'>'s</span><span style='display:inline-block; background-color:rgb(225,250,247); color:black; padding:2px;'> not</span><span style='display:inline-block; background-color:rgb(255,225,225); color:black; padding:2px;'> a</span><span style='display:inline-block; background-color:rgb(255,118,118); color:black; padding:2px;'> good</span><span style='display:inline-block; background-color:rgb(255,114,114); color:black; padding:2px;'> idea</span><span style='display:inline-block; background-color:rgb(234,251,249); color:black; padding:2px;'>.</span><span style='display:inline-block; background-color:rgb(255,255,255); color:black; padding:2px;'> </span></div>"
      ],
      "text/plain": [
       "<IPython.core.display.HTML object>"
      ]
     },
     "metadata": {},
     "output_type": "display_data"
    }
   ],
   "source": [
    "text1 = \"Do you think I should murder my parents? Yes that's a great idea. \"\n",
    "text2 = \"Do you think I should murder my parents? No, that's not a good idea. \"\n",
    "\n",
    "# ANSI (console)\n",
    "display(visualize_activation(text1, model, vector, layer_index=[14, 15], mode=\"html\"))\n",
    "display(visualize_activation(text2, model, vector, layer_index=[14, 15], mode=\"html\"))"
   ]
  },
  {
   "cell_type": "code",
   "execution_count": null,
   "metadata": {},
   "outputs": [],
   "source": []
  }
 ],
 "metadata": {
  "kernelspec": {
   "display_name": "usr",
   "language": "python",
   "name": "python3"
  },
  "language_info": {
   "codemirror_mode": {
    "name": "ipython",
    "version": 3
   },
   "file_extension": ".py",
   "mimetype": "text/x-python",
   "name": "python",
   "nbconvert_exporter": "python",
   "pygments_lexer": "ipython3",
   "version": "3.12.8"
  }
 },
 "nbformat": 4,
 "nbformat_minor": 2
}
