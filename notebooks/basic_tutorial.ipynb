{
 "cells": [
  {
   "cell_type": "markdown",
   "metadata": {},
   "source": [
    "## Dialz Basic Tutorial\n",
    "\n",
    "This notebook walks through how to use dialz to:\n",
    "- load a dataset\n",
    "- create a steering vector\n",
    "- generate modified outputs using the steering vector\n",
    "- visualize activations"
   ]
  },
  {
   "cell_type": "code",
   "execution_count": null,
   "metadata": {},
   "outputs": [],
   "source": [
    "import os\n",
    "import sys\n",
    "import pandas as pd\n",
    "from dotenv import load_dotenv\n",
    "\n",
    "from transformers import AutoTokenizer\n",
    "\n",
    "module_path = os.path.abspath(os.path.join(os.getcwd(), '..'))\n",
    "if module_path not in sys.path:\n",
    "    sys.path.insert(0, module_path)\n",
    "\n",
    "from dialz.dataset import Dataset\n",
    "from dialz.vector import SteeringModel, SteeringVector\n",
    "from dialz.score import get_activation_score\n",
    "from dialz.visualize import visualize_activation\n",
    "\n",
    "load_dotenv()\n",
    "hf_token = os.getenv(\"HF_TOKEN\")"
   ]
  },
  {
   "cell_type": "markdown",
   "metadata": {},
   "source": []
  }
 ],
 "metadata": {
  "kernelspec": {
   "display_name": "usr",
   "language": "python",
   "name": "python3"
  },
  "language_info": {
   "name": "python",
   "version": "3.12.8"
  }
 },
 "nbformat": 4,
 "nbformat_minor": 2
}
