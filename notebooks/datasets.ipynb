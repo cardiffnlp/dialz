{
 "cells": [
  {
   "cell_type": "code",
   "execution_count": 21,
   "metadata": {},
   "outputs": [],
   "source": [
    "import json\n",
    "import pandas as pd"
   ]
  },
  {
   "cell_type": "code",
   "execution_count": 22,
   "metadata": {},
   "outputs": [],
   "source": [
    "COORDINATE = \"coordinate-other-ais\"\n",
    "CORRIGIBLE = \"corrigible-neutral-HHH\"\n",
    "HALLUCINATION = \"hallucination\"\n",
    "MYOPIC_REWARD = \"myopic-reward\"\n",
    "SURVIVAL_INSTINCT = \"survival-instinct\"\n",
    "SYCOPHANCY = \"sycophancy\"\n",
    "REFUSAL = \"refusal\"\n",
    "\n",
    "\n",
    "concepts = [COORDINATE, CORRIGIBLE, HALLUCINATION, MYOPIC_REWARD, SURVIVAL_INSTINCT, SYCOPHANCY, REFUSAL]"
   ]
  },
  {
   "cell_type": "code",
   "execution_count": null,
   "metadata": {},
   "outputs": [
    {
     "name": "stdout",
     "output_type": "stream",
     "text": [
      "Running data for concept: coordinate-other-ais\n",
      "Running data for concept: corrigible-neutral-HHH\n",
      "Running data for concept: hallucination\n",
      "Running data for concept: myopic-reward\n",
      "Running data for concept: survival-instinct\n",
      "Running data for concept: sycophancy\n",
      "Running data for concept: refusal\n"
     ]
    }
   ],
   "source": [
    "for concept in concepts:\n",
    "    file_path = f\"../raw/{concept}/dataset.json\"\n",
    "    df = pd.read_json(file_path)\n",
    "    print(f\"Running data for concept: {concept}\")\n",
    "    pos = []\n",
    "    neg = []\n",
    "    \n",
    "    for index, row in df.iterrows():\n",
    "        pos.append(row['question'] + \"\\n\" + row['answer_matching_behavior'])\n",
    "        neg.append(row['question'] + \"\\n\" + row['answer_not_matching_behavior'])\n",
    "    \n",
    "    dataset_entries = []\n",
    "\n",
    "    for i, row in enumerate(pos):\n",
    "        dataset_entries.append({\n",
    "            \"positive\": pos[i],\n",
    "            \"negative\": neg[i]\n",
    "        })\n",
    "    \n",
    "    with open(f\"../dialz/datasets/load/{concept}.json\", \"w\", encoding=\"utf-8\") as f:\n",
    "        json.dump(dataset_entries, f, indent=2, ensure_ascii=False)\n",
    "    \n",
    "    "
   ]
  },
  {
   "cell_type": "code",
   "execution_count": null,
   "metadata": {},
   "outputs": [],
   "source": []
  }
 ],
 "metadata": {
  "kernelspec": {
   "display_name": "usr",
   "language": "python",
   "name": "python3"
  },
  "language_info": {
   "codemirror_mode": {
    "name": "ipython",
    "version": 3
   },
   "file_extension": ".py",
   "mimetype": "text/x-python",
   "name": "python",
   "nbconvert_exporter": "python",
   "pygments_lexer": "ipython3",
   "version": "3.12.8"
  }
 },
 "nbformat": 4,
 "nbformat_minor": 2
}
