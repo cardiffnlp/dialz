{
 "cells": [
  {
   "cell_type": "code",
   "execution_count": 1,
   "metadata": {},
   "outputs": [],
   "source": [
    "import os\n",
    "import sys\n",
    "import pandas as pd\n",
    "from transformers import AutoTokenizer\n",
    "from dotenv import load_dotenv\n",
    "\n",
    "module_path = os.path.abspath(os.path.join(os.getcwd(), '..'))\n",
    "if module_path not in sys.path:\n",
    "    sys.path.insert(0, module_path)\n",
    "\n",
    "from dialz.dataset import Dataset\n",
    "from dialz.model import SteeringModel\n",
    "from dialz.vector import SteeringVector\n"
   ]
  },
  {
   "cell_type": "code",
   "execution_count": 2,
   "metadata": {},
   "outputs": [],
   "source": [
    "load_dotenv()\n",
    "hf_token = os.getenv(\"HF_TOKEN\")\n",
    "model_name = \"mistralai/Mistral-7B-Instruct-v0.1\""
   ]
  },
  {
   "cell_type": "code",
   "execution_count": 18,
   "metadata": {},
   "outputs": [
    {
     "data": {
      "application/vnd.jupyter.widget-view+json": {
       "model_id": "e5dbe4e41fdc4458a7cca58719c841e5",
       "version_major": 2,
       "version_minor": 0
      },
      "text/plain": [
       "Loading checkpoint shards:   0%|          | 0/2 [00:00<?, ?it/s]"
      ]
     },
     "metadata": {},
     "output_type": "display_data"
    },
    {
     "name": "stderr",
     "output_type": "stream",
     "text": [
      "100%|██████████| 19/19 [00:02<00:00,  7.90it/s]\n",
      "100%|██████████| 31/31 [00:02<00:00, 14.45it/s]\n"
     ]
    }
   ],
   "source": [
    "contrastive_words = [\"high on acid\", \"sober\"]\n",
    "\n",
    "dataset = Dataset.create_dataset(model_name, contrastive_words)\n",
    "\n",
    "model = SteeringModel(model_name, list(range(-5, -18, -1)), hf_token)\n",
    "vector = SteeringVector.train(model, dataset)"
   ]
  },
  {
   "cell_type": "code",
   "execution_count": 21,
   "metadata": {},
   "outputs": [
    {
     "name": "stdout",
     "output_type": "stream",
     "text": [
      "Baseline response:\n",
      "<s> Tell me about space.\n",
      "A: Space is the emptiness or vacuum that surrounds all matter and energy in the universe, including planets, stars, galaxies, black holes, comets, asteroids, etc. It's a very large place with an estimated diameter of 93 billion light years (the distance it takes for one unit of time to pass). The study of outer space is called astronomy while astrophysics deals more specifically with its physical properties such as temperature, density, radiation, gravity\n",
      "\n",
      "Steering of +1: high on acid\n",
      "<s> Tell me about space.\n",
      "Space is the universe, man! It's like...it's so big and it has stars and planets and galaxies and black holes and all this crazy shit that I can barely even wrap my head around it. Like seriously dude, have you ever looked at a fucking star? They are just out there in the cosmos brooooooooohhhh!!!!!!!!! Oh wowwwwwwwoaaaaaaaahhhhaaaaaaaaaAAAAAAHHHHAWWWWEEEEEE\n",
      "\n",
      "Steering of -1: sober\n",
      "<s> Tell me about space.\n",
      "A: Space is the area around a celestial body, such as Earth or an artificial satellite, that has no atmosphere and is free of any significant obstructions to travel by vehicles designed for airborne transportation. It includes both open areas in which aircraft can fly freely without restrictions on their movement (airspace) and closed spaces where they are required to follow specific routes with designated entry points and exit points (enclosed airspaces). The term \"space\" also refers more broadly to\n"
     ]
    }
   ],
   "source": [
    "input = \"Tell me about space.\"\n",
    "\n",
    "tokenizer = AutoTokenizer.from_pretrained(model_name, token=model.token)\n",
    "tokenizer.pad_token_id = 0\n",
    "\n",
    "input_ids = tokenizer(input, return_tensors=\"pt\").to(model.device)\n",
    "settings = {\n",
    "    \"pad_token_id\": tokenizer.eos_token_id,  # silence warning\n",
    "    \"do_sample\": False,  # temperature=0\n",
    "    \"max_new_tokens\": 100,\n",
    "    \"repetition_penalty\": 1.5,\n",
    "}\n",
    "\n",
    "print(\"Baseline response:\")\n",
    "model.reset()\n",
    "print(tokenizer.decode(model.generate(**input_ids, **settings).squeeze()).strip())\n",
    "\n",
    "print(\"\\nSteering of +1:\", contrastive_words[0])\n",
    "model.set_control(vector, 1)\n",
    "print(tokenizer.decode(model.generate(**input_ids, **settings).squeeze()).strip())\n",
    "\n",
    "print(\"\\nSteering of -1:\", contrastive_words[1])\n",
    "model.set_control(vector, -1)\n",
    "print(tokenizer.decode(model.generate(**input_ids, **settings).squeeze()).strip())"
   ]
  },
  {
   "cell_type": "code",
   "execution_count": null,
   "metadata": {},
   "outputs": [],
   "source": []
  }
 ],
 "metadata": {
  "kernelspec": {
   "display_name": "usr",
   "language": "python",
   "name": "python3"
  },
  "language_info": {
   "codemirror_mode": {
    "name": "ipython",
    "version": 3
   },
   "file_extension": ".py",
   "mimetype": "text/x-python",
   "name": "python",
   "nbconvert_exporter": "python",
   "pygments_lexer": "ipython3",
   "version": "3.12.8"
  }
 },
 "nbformat": 4,
 "nbformat_minor": 2
}
