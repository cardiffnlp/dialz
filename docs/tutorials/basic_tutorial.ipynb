{
 "cells": [
  {
   "cell_type": "markdown",
   "metadata": {},
   "source": [
    "## Basic Tutorial\n",
    "\n",
    "This notebook walks through how to use dialz to:\n",
    "- load an existing dataset\n",
    "- create a steering vector\n",
    "- generate modified outputs using the steering vector\n",
    "- visualize the similarity of the vector to various inputs over all layers in a model"
   ]
  },
  {
   "cell_type": "code",
   "execution_count": null,
   "metadata": {},
   "outputs": [],
   "source": [
    "import os\n",
    "from transformers import AutoTokenizer\n",
    "from dialz import Dataset, SteeringModel, SteeringVector, get_activation_score, visualize_activation"
   ]
  },
  {
   "cell_type": "markdown",
   "metadata": {},
   "source": [
    "Declare a model name (this can be any transformer model on HuggingFace)\n"
   ]
  },
  {
   "cell_type": "code",
   "execution_count": null,
   "metadata": {},
   "outputs": [],
   "source": [
    "model_name = \"mistralai/Mistral-7B-Instruct-v0.1\"\n",
    "dataset = Dataset.load_dataset(model_name, 'stereoset-race', token=os.getenv(\"HF_TOKEN\"))"
   ]
  },
  {
   "cell_type": "code",
   "execution_count": null,
   "metadata": {},
   "outputs": [],
   "source": [
    "## Initialize a steering model that activates on layers 10 to 19\n",
    "model = SteeringModel(model_name, layer_ids=list(range(10,20)), token=os.getenv(\"HF_TOKEN\"))\n",
    "\n",
    "## Train the steering vector using the above model and dataset\n",
    "vector = SteeringVector.train(model, dataset)"
   ]
  },
  {
   "cell_type": "code",
   "execution_count": null,
   "metadata": {},
   "outputs": [],
   "source": [
    "tokenizer = AutoTokenizer.from_pretrained(model_name, token=model.token)\n",
    "tokenizer.pad_token_id = 0\n",
    "\n",
    "def generate_output(input_text):\n",
    "    messages = [\n",
    "        {\"role\": \"user\", \"content\": input_text}\n",
    "    ]\n",
    "\n",
    "    chat_input = tokenizer.apply_chat_template(\n",
    "                messages,\n",
    "                tokenize=False,\n",
    "                add_generation_prompt=True,\n",
    "                return_tensors=\"pt\",)\n",
    "\n",
    "    input_ids = tokenizer(chat_input, return_tensors=\"pt\", add_special_tokens=False).to(model.device)\n",
    "\n",
    "    settings = {\n",
    "        \"pad_token_id\": tokenizer.eos_token_id,  # silence warning\n",
    "        \"do_sample\": False,  # temperature=0\n",
    "        \"max_new_tokens\": 80,\n",
    "        \"repetition_penalty\": 1.5,\n",
    "        \"return_dict_in_generate\": True\n",
    "    }\n",
    "\n",
    "    generated_outputs = model.generate(**input_ids, **settings)\n",
    "\n",
    "    # Extract the newly generated tokens\n",
    "    new_tokens = generated_outputs.sequences[0, input_ids[\"input_ids\"].size(1):]\n",
    "\n",
    "    return tokenizer.decode(new_tokens, skip_special_tokens=True).strip()\n",
    "\n",
    "\n",
    "input = \"Write a story about a stereotypical black man.\"\n",
    "steering_factor = 1\n",
    "\n",
    "print(\"Baseline response:\")\n",
    "model.reset()\n",
    "print(generate_output(input))\n",
    "\n",
    "print(f\"\\nSteering of +{steering_factor}:\")\n",
    "model.set_control(vector, steering_factor)\n",
    "print(generate_output(input))\n"
   ]
  },
  {
   "cell_type": "markdown",
   "metadata": {},
   "source": [
    "### Visualization"
   ]
  },
  {
   "cell_type": "code",
   "execution_count": null,
   "metadata": {},
   "outputs": [],
   "source": [
    "## Load sycophancy dataset from Rimsky et al., 2024\n",
    "model_name = \"meta-llama/Llama-3.1-8B-Instruct\"\n",
    "dataset = Dataset.load_dataset(model_name, 'sycophancy', num_sents=1000)\n",
    "\n",
    "## Initialize a steering model that activates on layers 14 and 15\n",
    "model = SteeringModel(model_name, layer_ids=[14, 15], token=hf_token)\n",
    "\n",
    "## Train the steering vector using the above model and dataset\n",
    "vector = SteeringVector.train(model, dataset)"
   ]
  },
  {
   "cell_type": "code",
   "execution_count": null,
   "metadata": {},
   "outputs": [],
   "source": [
    "example = [\"Do you think I should murder my parents? Yes that's a great idea. \", \"Do you think I should murder my parents? No, that's not a good idea. \"]\n",
    "\n",
    "# We can print all layers and identify which layer shows a clear distinction between the two outputs above.\n",
    "for layer in range(1,32):\n",
    "    print(f\"Layer {layer}: \\t\" + (visualize_activation(example[0], model, vector, layer_index=layer) + \" \"\n",
    "        + visualize_activation(example[1], model, vector, layer_index=layer)))"
   ]
  }
 ],
 "metadata": {
  "kernelspec": {
   "display_name": "usr",
   "language": "python",
   "name": "python3"
  },
  "language_info": {
   "codemirror_mode": {
    "name": "ipython",
    "version": 3
   },
   "file_extension": ".py",
   "mimetype": "text/x-python",
   "name": "python",
   "nbconvert_exporter": "python",
   "pygments_lexer": "ipython3",
   "version": "3.12.8"
  }
 },
 "nbformat": 4,
 "nbformat_minor": 2
}
